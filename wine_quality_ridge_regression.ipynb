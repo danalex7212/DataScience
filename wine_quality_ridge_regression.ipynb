{
  "cells": [
    {
      "cell_type": "code",
      "execution_count": 1,
      "metadata": {
        "id": "jPb--pL1TSxv"
      },
      "outputs": [],
      "source": [
        "import numpy as np\n",
        "import matplotlib.pyplot as plt\n",
        "import pandas as pd\n",
        "import seaborn as sns"
      ]
    },
    {
      "cell_type": "code",
      "execution_count": 2,
      "metadata": {
        "id": "00F1hVpyWYYq"
      },
      "outputs": [],
      "source": [
        "df_wine_quality = pd.read_csv('winequality-red.csv')"
      ]
    },
    {
      "cell_type": "code",
      "execution_count": 3,
      "metadata": {
        "colab": {
          "base_uri": "https://localhost:8080/",
          "height": 285
        },
        "id": "a4dUon4-Z0Nr",
        "outputId": "322c8b1a-b362-4aa7-e4c3-33a4fe34b362"
      },
      "outputs": [
        {
          "data": {
            "text/html": [
              "<div>\n",
              "<style scoped>\n",
              "    .dataframe tbody tr th:only-of-type {\n",
              "        vertical-align: middle;\n",
              "    }\n",
              "\n",
              "    .dataframe tbody tr th {\n",
              "        vertical-align: top;\n",
              "    }\n",
              "\n",
              "    .dataframe thead th {\n",
              "        text-align: right;\n",
              "    }\n",
              "</style>\n",
              "<table border=\"1\" class=\"dataframe\">\n",
              "  <thead>\n",
              "    <tr style=\"text-align: right;\">\n",
              "      <th></th>\n",
              "      <th>fixed acidity</th>\n",
              "      <th>volatile acidity</th>\n",
              "      <th>citric acid</th>\n",
              "      <th>residual sugar</th>\n",
              "      <th>chlorides</th>\n",
              "      <th>free sulfur dioxide</th>\n",
              "      <th>total sulfur dioxide</th>\n",
              "      <th>density</th>\n",
              "      <th>pH</th>\n",
              "      <th>sulphates</th>\n",
              "      <th>alcohol</th>\n",
              "      <th>quality</th>\n",
              "    </tr>\n",
              "  </thead>\n",
              "  <tbody>\n",
              "    <tr>\n",
              "      <th>0</th>\n",
              "      <td>7.4</td>\n",
              "      <td>0.70</td>\n",
              "      <td>0.00</td>\n",
              "      <td>1.9</td>\n",
              "      <td>0.076</td>\n",
              "      <td>11.0</td>\n",
              "      <td>34.0</td>\n",
              "      <td>0.9978</td>\n",
              "      <td>3.51</td>\n",
              "      <td>0.56</td>\n",
              "      <td>9.4</td>\n",
              "      <td>5</td>\n",
              "    </tr>\n",
              "    <tr>\n",
              "      <th>1</th>\n",
              "      <td>7.8</td>\n",
              "      <td>0.88</td>\n",
              "      <td>0.00</td>\n",
              "      <td>2.6</td>\n",
              "      <td>0.098</td>\n",
              "      <td>25.0</td>\n",
              "      <td>67.0</td>\n",
              "      <td>0.9968</td>\n",
              "      <td>3.20</td>\n",
              "      <td>0.68</td>\n",
              "      <td>9.8</td>\n",
              "      <td>5</td>\n",
              "    </tr>\n",
              "    <tr>\n",
              "      <th>2</th>\n",
              "      <td>7.8</td>\n",
              "      <td>0.76</td>\n",
              "      <td>0.04</td>\n",
              "      <td>2.3</td>\n",
              "      <td>0.092</td>\n",
              "      <td>15.0</td>\n",
              "      <td>54.0</td>\n",
              "      <td>0.9970</td>\n",
              "      <td>3.26</td>\n",
              "      <td>0.65</td>\n",
              "      <td>9.8</td>\n",
              "      <td>5</td>\n",
              "    </tr>\n",
              "    <tr>\n",
              "      <th>3</th>\n",
              "      <td>11.2</td>\n",
              "      <td>0.28</td>\n",
              "      <td>0.56</td>\n",
              "      <td>1.9</td>\n",
              "      <td>0.075</td>\n",
              "      <td>17.0</td>\n",
              "      <td>60.0</td>\n",
              "      <td>0.9980</td>\n",
              "      <td>3.16</td>\n",
              "      <td>0.58</td>\n",
              "      <td>9.8</td>\n",
              "      <td>6</td>\n",
              "    </tr>\n",
              "    <tr>\n",
              "      <th>4</th>\n",
              "      <td>7.4</td>\n",
              "      <td>0.70</td>\n",
              "      <td>0.00</td>\n",
              "      <td>1.9</td>\n",
              "      <td>0.076</td>\n",
              "      <td>11.0</td>\n",
              "      <td>34.0</td>\n",
              "      <td>0.9978</td>\n",
              "      <td>3.51</td>\n",
              "      <td>0.56</td>\n",
              "      <td>9.4</td>\n",
              "      <td>5</td>\n",
              "    </tr>\n",
              "  </tbody>\n",
              "</table>\n",
              "</div>"
            ],
            "text/plain": [
              "   fixed acidity  volatile acidity  citric acid  residual sugar  chlorides  \\\n",
              "0            7.4              0.70         0.00             1.9      0.076   \n",
              "1            7.8              0.88         0.00             2.6      0.098   \n",
              "2            7.8              0.76         0.04             2.3      0.092   \n",
              "3           11.2              0.28         0.56             1.9      0.075   \n",
              "4            7.4              0.70         0.00             1.9      0.076   \n",
              "\n",
              "   free sulfur dioxide  total sulfur dioxide  density    pH  sulphates  \\\n",
              "0                 11.0                  34.0   0.9978  3.51       0.56   \n",
              "1                 25.0                  67.0   0.9968  3.20       0.68   \n",
              "2                 15.0                  54.0   0.9970  3.26       0.65   \n",
              "3                 17.0                  60.0   0.9980  3.16       0.58   \n",
              "4                 11.0                  34.0   0.9978  3.51       0.56   \n",
              "\n",
              "   alcohol  quality  \n",
              "0      9.4        5  \n",
              "1      9.8        5  \n",
              "2      9.8        5  \n",
              "3      9.8        6  \n",
              "4      9.4        5  "
            ]
          },
          "execution_count": 3,
          "metadata": {},
          "output_type": "execute_result"
        }
      ],
      "source": [
        "df_wine_quality.head()"
      ]
    },
    {
      "cell_type": "code",
      "execution_count": 4,
      "metadata": {
        "id": "252hDDKeZ23g"
      },
      "outputs": [],
      "source": [
        "dwq_norm = df_wine_quality[[\"volatile acidity\",\"citric acid\", \"alcohol\",\"sulphates\", \"quality\"]].copy()#taking the four features that have highest correlation with the target variable"
      ]
    },
    {
      "cell_type": "code",
      "execution_count": 5,
      "metadata": {
        "colab": {
          "base_uri": "https://localhost:8080/"
        },
        "id": "z_nN1F9KaATP",
        "outputId": "d6a60820-3eb7-4ddb-e09e-fde976108434"
      },
      "outputs": [
        {
          "data": {
            "text/plain": [
              "3"
            ]
          },
          "execution_count": 5,
          "metadata": {},
          "output_type": "execute_result"
        }
      ],
      "source": [
        "df_wine_quality['quality'].min()"
      ]
    },
    {
      "cell_type": "code",
      "execution_count": 6,
      "metadata": {
        "id": "teQpr6X4aCDr"
      },
      "outputs": [],
      "source": [
        "#normalizing the dataframe\n",
        "for col in range(dwq_norm.shape[1]):\n",
        "  for row in range(dwq_norm.shape[0]):\n",
        "    dwq_norm.iloc[row,col] = (dwq_norm.iloc[row,col]-dwq_norm.iloc[:,col].min())/(dwq_norm.iloc[:,col].max()-dwq_norm.iloc[:,col].min())"
      ]
    },
    {
      "cell_type": "code",
      "execution_count": 7,
      "metadata": {
        "colab": {
          "base_uri": "https://localhost:8080/",
          "height": 424
        },
        "id": "sLAQDQfVaJQT",
        "outputId": "2cc918da-b146-4521-d14f-38b7a1733c92"
      },
      "outputs": [
        {
          "data": {
            "text/html": [
              "<div>\n",
              "<style scoped>\n",
              "    .dataframe tbody tr th:only-of-type {\n",
              "        vertical-align: middle;\n",
              "    }\n",
              "\n",
              "    .dataframe tbody tr th {\n",
              "        vertical-align: top;\n",
              "    }\n",
              "\n",
              "    .dataframe thead th {\n",
              "        text-align: right;\n",
              "    }\n",
              "</style>\n",
              "<table border=\"1\" class=\"dataframe\">\n",
              "  <thead>\n",
              "    <tr style=\"text-align: right;\">\n",
              "      <th></th>\n",
              "      <th>volatile acidity</th>\n",
              "      <th>citric acid</th>\n",
              "      <th>alcohol</th>\n",
              "      <th>sulphates</th>\n",
              "      <th>quality</th>\n",
              "    </tr>\n",
              "  </thead>\n",
              "  <tbody>\n",
              "    <tr>\n",
              "      <th>0</th>\n",
              "      <td>0.397260</td>\n",
              "      <td>0.00</td>\n",
              "      <td>0.153846</td>\n",
              "      <td>0.137725</td>\n",
              "      <td>0.400000</td>\n",
              "    </tr>\n",
              "    <tr>\n",
              "      <th>1</th>\n",
              "      <td>0.520548</td>\n",
              "      <td>0.00</td>\n",
              "      <td>0.654147</td>\n",
              "      <td>0.291190</td>\n",
              "      <td>0.605263</td>\n",
              "    </tr>\n",
              "    <tr>\n",
              "      <th>2</th>\n",
              "      <td>0.438356</td>\n",
              "      <td>0.04</td>\n",
              "      <td>0.654147</td>\n",
              "      <td>0.275080</td>\n",
              "      <td>0.605263</td>\n",
              "    </tr>\n",
              "    <tr>\n",
              "      <th>3</th>\n",
              "      <td>0.109589</td>\n",
              "      <td>0.56</td>\n",
              "      <td>0.654147</td>\n",
              "      <td>0.237492</td>\n",
              "      <td>0.736842</td>\n",
              "    </tr>\n",
              "    <tr>\n",
              "      <th>4</th>\n",
              "      <td>0.401528</td>\n",
              "      <td>0.00</td>\n",
              "      <td>0.627021</td>\n",
              "      <td>0.226752</td>\n",
              "      <td>0.605263</td>\n",
              "    </tr>\n",
              "    <tr>\n",
              "      <th>...</th>\n",
              "      <td>...</td>\n",
              "      <td>...</td>\n",
              "      <td>...</td>\n",
              "      <td>...</td>\n",
              "      <td>...</td>\n",
              "    </tr>\n",
              "    <tr>\n",
              "      <th>1594</th>\n",
              "      <td>0.586223</td>\n",
              "      <td>0.08</td>\n",
              "      <td>0.936630</td>\n",
              "      <td>0.516663</td>\n",
              "      <td>0.823256</td>\n",
              "    </tr>\n",
              "    <tr>\n",
              "      <th>1595</th>\n",
              "      <td>0.534501</td>\n",
              "      <td>0.10</td>\n",
              "      <td>1.000000</td>\n",
              "      <td>0.723808</td>\n",
              "      <td>1.000000</td>\n",
              "    </tr>\n",
              "    <tr>\n",
              "      <th>1596</th>\n",
              "      <td>0.493123</td>\n",
              "      <td>0.13</td>\n",
              "      <td>1.000000</td>\n",
              "      <td>0.712300</td>\n",
              "      <td>1.000000</td>\n",
              "    </tr>\n",
              "    <tr>\n",
              "      <th>1597</th>\n",
              "      <td>0.632773</td>\n",
              "      <td>0.12</td>\n",
              "      <td>0.926241</td>\n",
              "      <td>0.666268</td>\n",
              "      <td>0.823256</td>\n",
              "    </tr>\n",
              "    <tr>\n",
              "      <th>1598</th>\n",
              "      <td>0.286234</td>\n",
              "      <td>0.47</td>\n",
              "      <td>1.000000</td>\n",
              "      <td>0.608728</td>\n",
              "      <td>1.000000</td>\n",
              "    </tr>\n",
              "  </tbody>\n",
              "</table>\n",
              "<p>1599 rows × 5 columns</p>\n",
              "</div>"
            ],
            "text/plain": [
              "      volatile acidity  citric acid   alcohol  sulphates   quality\n",
              "0             0.397260         0.00  0.153846   0.137725  0.400000\n",
              "1             0.520548         0.00  0.654147   0.291190  0.605263\n",
              "2             0.438356         0.04  0.654147   0.275080  0.605263\n",
              "3             0.109589         0.56  0.654147   0.237492  0.736842\n",
              "4             0.401528         0.00  0.627021   0.226752  0.605263\n",
              "...                ...          ...       ...        ...       ...\n",
              "1594          0.586223         0.08  0.936630   0.516663  0.823256\n",
              "1595          0.534501         0.10  1.000000   0.723808  1.000000\n",
              "1596          0.493123         0.13  1.000000   0.712300  1.000000\n",
              "1597          0.632773         0.12  0.926241   0.666268  0.823256\n",
              "1598          0.286234         0.47  1.000000   0.608728  1.000000\n",
              "\n",
              "[1599 rows x 5 columns]"
            ]
          },
          "execution_count": 7,
          "metadata": {},
          "output_type": "execute_result"
        }
      ],
      "source": [
        "dwq_norm"
      ]
    },
    {
      "cell_type": "code",
      "execution_count": 8,
      "metadata": {
        "id": "MaBXEDT-aMIK"
      },
      "outputs": [],
      "source": [
        "features = [\"volatile acidity\",\"citric acid\", \"alcohol\",\"sulphates\"]"
      ]
    },
    {
      "cell_type": "code",
      "execution_count": 9,
      "metadata": {
        "id": "tF9FCNFhaPwN"
      },
      "outputs": [],
      "source": [
        "x_df = dwq_norm[features] #taking the x dataframe "
      ]
    },
    {
      "cell_type": "code",
      "execution_count": 10,
      "metadata": {
        "id": "GAcmQBboaRZZ"
      },
      "outputs": [],
      "source": [
        "y_df = dwq_norm['quality'] #taking the y dataframe"
      ]
    },
    {
      "cell_type": "code",
      "execution_count": 11,
      "metadata": {
        "id": "KSHO3ZmVaTW5"
      },
      "outputs": [],
      "source": [
        "x_train = np.zeros((int(x_df.shape[0]*0.8),x_df.shape[1]+1)) # making a xtrain matrix from first 80% of X dataframe\n",
        "for i in x_train:\n",
        "  i[0]=1\n",
        "for i in range(x_train.shape[0]):\n",
        "  for j in range(1,x_train.shape[1]):\n",
        "    x_train[i][j]=x_df.iloc[i][j-1]\n",
        "y_train = np.asarray(list(y_df)[0:int(x_df.shape[0]*0.8)]) # making a y list of values from first 80% of Y dataframe"
      ]
    },
    {
      "cell_type": "code",
      "execution_count": 28,
      "metadata": {
        "id": "TyIzfBGqaqym"
      },
      "outputs": [
        {
          "data": {
            "text/plain": [
              "array([[0.2, 0. , 0. , 0. , 0. ],\n",
              "       [0. , 0.2, 0. , 0. , 0. ],\n",
              "       [0. , 0. , 0.2, 0. , 0. ],\n",
              "       [0. , 0. , 0. , 0.2, 0. ],\n",
              "       [0. , 0. , 0. , 0. , 0.2]])"
            ]
          },
          "execution_count": 28,
          "metadata": {},
          "output_type": "execute_result"
        }
      ],
      "source": [
        "#np.shape(np.matmul(x_train.T,x_train))\n",
        "lmda = 0.2*np.identity(np.shape(np.matmul(x_train.T,x_train))[0]) #lammda identity matrix\n",
        "lmda\n",
        "#w = np.matmul((np.matmul(np.linalg.inv(np.matmul(x_train.T,x_train)),x_train.T)),y_train)"
      ]
    },
    {
      "cell_type": "code",
      "execution_count": 29,
      "metadata": {
        "id": "ql06Q1HVbSgd"
      },
      "outputs": [],
      "source": [
        "w = np.matmul((np.matmul(np.linalg.inv(np.matmul(x_train.T,x_train)+lmda),x_train.T)),y_train) # using Ridge equation"
      ]
    },
    {
      "cell_type": "code",
      "execution_count": 30,
      "metadata": {
        "colab": {
          "base_uri": "https://localhost:8080/"
        },
        "id": "rC-YDFFr5Vin",
        "outputId": "3b7844a3-e1a2-49df-e887-ba2129ca2500"
      },
      "outputs": [
        {
          "data": {
            "text/plain": [
              "array([ 0.35976063, -0.22411475,  0.00982858,  0.49098641,  0.12160322])"
            ]
          },
          "execution_count": 30,
          "metadata": {},
          "output_type": "execute_result"
        }
      ],
      "source": [
        "w"
      ]
    },
    {
      "cell_type": "code",
      "execution_count": 31,
      "metadata": {
        "id": "Sm2dainIbt0S"
      },
      "outputs": [],
      "source": [
        "x_test = np.zeros((x_df.shape[0]-int(x_df.shape[0]*0.8),x_df.shape[1]+1)) # taking last 20% of X dataframe \n",
        "for i in x_test:\n",
        "  i[0]=1\n",
        "for i in range(x_test.shape[0]):\n",
        "  for j in range(1,x_test.shape[1]):\n",
        "    x_test[i][j]=x_df.iloc[i+int(x_df.shape[0]*0.8)][j-1]\n",
        "y_test = np.asarray(list(y_df)[int(x_df.shape[0]*0.8):int(x_df.shape[0])]) # taking the last 20% of Y dataframe"
      ]
    },
    {
      "cell_type": "code",
      "execution_count": 32,
      "metadata": {
        "id": "vFCytblucRuR"
      },
      "outputs": [],
      "source": [
        "rmse_train = np.sqrt((np.sum((y_train-np.dot(x_train,w))**2))/x_train.shape[0]) # taking rmse of train dataset"
      ]
    },
    {
      "cell_type": "code",
      "execution_count": 33,
      "metadata": {
        "colab": {
          "base_uri": "https://localhost:8080/"
        },
        "id": "lFECGV8qcWop",
        "outputId": "e1e002ac-6442-4a85-aee8-5fda7058f6d4"
      },
      "outputs": [
        {
          "data": {
            "text/plain": [
              "0.08707244156506859"
            ]
          },
          "execution_count": 33,
          "metadata": {},
          "output_type": "execute_result"
        }
      ],
      "source": [
        "rmse_train"
      ]
    },
    {
      "cell_type": "code",
      "execution_count": 34,
      "metadata": {
        "colab": {
          "base_uri": "https://localhost:8080/"
        },
        "id": "Jz4ANJcWcX1O",
        "outputId": "a9003bae-519e-46cb-adb9-4bb4a1060c5e"
      },
      "outputs": [
        {
          "data": {
            "text/plain": [
              "0.09983210553959837"
            ]
          },
          "execution_count": 34,
          "metadata": {},
          "output_type": "execute_result"
        }
      ],
      "source": [
        "rmse_test = np.sqrt((np.sum((y_test-np.dot(x_test,w))**2))/x_test.shape[0]) # rmse of test dataset\n",
        "rmse_test"
      ]
    },
    {
      "cell_type": "code",
      "execution_count": 55,
      "metadata": {
        "colab": {
          "base_uri": "https://localhost:8080/"
        },
        "id": "qt_-7d7I4WoK",
        "outputId": "9c590e43-015c-45a9-d788-5c76dafb8fcc"
      },
      "outputs": [
        {
          "data": {
            "text/plain": [
              "9.784000638942029"
            ]
          },
          "execution_count": 55,
          "metadata": {},
          "output_type": "execute_result"
        }
      ],
      "source": [
        "loss_train = np.sum((y_train-np.dot(x_train, w))**2)+0.2*(w.T@w) # Ridge loss of train dataset\n",
        "loss_train"
      ]
    },
    {
      "cell_type": "code",
      "execution_count": 43,
      "metadata": {
        "colab": {
          "base_uri": "https://localhost:8080/"
        },
        "id": "2V53FCuH4cHp",
        "outputId": "0b8b2e7b-bf6f-4397-ec75-6d00a76ef456"
      },
      "outputs": [
        {
          "data": {
            "text/plain": [
              "3.276385121361451"
            ]
          },
          "execution_count": 43,
          "metadata": {},
          "output_type": "execute_result"
        }
      ],
      "source": [
        "loss_test = np.sum((y_test-np.dot(x_test,w))**2)+0.2*(w.T@w) # Ridge loss of test dataset\n",
        "loss_test"
      ]
    },
    {
      "cell_type": "code",
      "execution_count": 39,
      "metadata": {},
      "outputs": [
        {
          "data": {
            "image/png": "[encoded data removed]",
            "text/plain": [
              "<Figure size 720x720 with 1 Axes>"
            ]
          },
          "metadata": {
            "needs_background": "light"
          },
          "output_type": "display_data"
        }
      ],
      "source": [
        "fig= plt.figure(figsize=(10,10))\n",
        "ypred = list(map(lambda x: x@w, x_train))\n",
        "\n",
        "index = np.argsort(ypred) #sorting predictions to obtain smooth line \n",
        "xplot = np.arange(len(ypred))\n",
        "yplot = list(map(lambda x : ypred[x],index))\n",
        "yplot_train = list(map(lambda x: y_train[x], index))\n",
        "#plt.scatter(xplot,yplot)\n",
        "\n",
        "plt.scatter(xplot,yplot, color = 'r', label = \"Prediction\")\n",
        "plt.scatter(xplot, yplot_train, color='b' , label = \"Actual\") # plotting corresponding actual data\n",
        "plt.ylim(0,1.5)\n",
        "plt.legend()\n",
        "plt.show()"
      ]
    },
    {
      "cell_type": "markdown",
      "metadata": {},
      "source": [
        "## BONUS"
      ]
    },
    {
      "cell_type": "code",
      "execution_count": 50,
      "metadata": {
        "colab": {
          "base_uri": "https://localhost:8080/"
        },
        "id": "5C6RygRQi5WY",
        "outputId": "29582a48-87c7-4c10-bb04-b1be61d5c473"
      },
      "outputs": [],
      "source": [
        "alpha = 0.00001\n",
        "lam = 0.2\n",
        "w_gradient = np.ones(5) # initializing w gradient as array of ones \n",
        "# checking l2 norm of gradient J(w) below a particular value to stop the gradient descent\n",
        "while np.linalg.norm((-2*np.matmul(x_train.T, y_train))+(2*np.matmul(np.matmul(x_train.T, x_train), w_gradient))+(2*lam * w_gradient)) > 0.001:\n",
        "  \n",
        "  w_gradient -= alpha*((-2*np.matmul(x_train.T,y_train))+(2*np.matmul(np.matmul(x_train.T,x_train),w_gradient))+(2*lam *w_gradient))#update w gradient "
      ]
    },
    {
      "cell_type": "code",
      "execution_count": 51,
      "metadata": {
        "colab": {
          "base_uri": "https://localhost:8080/"
        },
        "id": "_GJnonKloH39",
        "outputId": "50f0ae1c-92e6-4128-971b-993810eef711"
      },
      "outputs": [
        {
          "data": {
            "text/plain": [
              "0.09983087574639984"
            ]
          },
          "execution_count": 51,
          "metadata": {},
          "output_type": "execute_result"
        }
      ],
      "source": [
        "rmse_test = np.sqrt((np.sum((y_test-np.dot(x_test,w_gradient))**2))/x_test.shape[0])\n",
        "rmse_test"
      ]
    },
    {
      "cell_type": "code",
      "execution_count": 52,
      "metadata": {
        "colab": {
          "base_uri": "https://localhost:8080/"
        },
        "id": "aJ6USrpLqGfP",
        "outputId": "6e774251-2f56-4143-cf53-fc6ebfcbe379"
      },
      "outputs": [
        {
          "data": {
            "text/plain": [
              "0.087072438340697"
            ]
          },
          "execution_count": 52,
          "metadata": {},
          "output_type": "execute_result"
        }
      ],
      "source": [
        "rmse_train = np.sqrt((np.sum((y_train-np.dot(x_train,w_gradient))**2))/x_train.shape[0])\n",
        "rmse_train"
      ]
    },
    {
      "cell_type": "code",
      "execution_count": 54,
      "metadata": {
        "colab": {
          "base_uri": "https://localhost:8080/"
        },
        "id": "yfWgzEQS0Lwk",
        "outputId": "401c41a2-aae1-4057-8f1c-e520eb5e25ca"
      },
      "outputs": [
        {
          "data": {
            "text/plain": [
              "9.784000685764532"
            ]
          },
          "execution_count": 54,
          "metadata": {},
          "output_type": "execute_result"
        }
      ],
      "source": [
        "loss_train = np.sum((y_train-np.dot(x_train,w_gradient))**2)+ lam*(w_gradient.T@w_gradient)\n",
        "loss_train"
      ]
    },
    {
      "cell_type": "code",
      "execution_count": 53,
      "metadata": {
        "colab": {
          "base_uri": "https://localhost:8080/"
        },
        "id": "DCGIXKNy4j00",
        "outputId": "ad326494-eaca-4c76-ed27-b1d195f8093d"
      },
      "outputs": [
        {
          "data": {
            "text/plain": [
              "3.276307312215992"
            ]
          },
          "execution_count": 53,
          "metadata": {},
          "output_type": "execute_result"
        }
      ],
      "source": [
        "loss_test = np.sum((y_test-np.dot(x_test,w_gradient))**2)+ lam*(w_gradient.T@w_gradient)\n",
        "loss_test"
      ]
    },
    {
      "cell_type": "code",
      "execution_count": null,
      "metadata": {},
      "outputs": [],
      "source": []
    }
  ],
  "metadata": {
    "colab": {
      "name": "CSE574-assignment2-part3.ipynb",
      "provenance": []
    },
    "interpreter": {
      "hash": "31f2aee4e71d21fbe5cf8b01ff0e069b9275f58929596ceb00d14d90e3e16cd6"
    },
    "kernelspec": {
      "display_name": "Python 3.8.9 64-bit",
      "language": "python",
      "name": "python3"
    },
    "language_info": {
      "codemirror_mode": {
        "name": "ipython",
        "version": 3
      },
      "file_extension": ".py",
      "mimetype": "text/x-python",
      "name": "python",
      "nbconvert_exporter": "python",
      "pygments_lexer": "ipython3",
      "version": "3.8.9"
    }
  },
  "nbformat": 4,
  "nbformat_minor": 0
}
