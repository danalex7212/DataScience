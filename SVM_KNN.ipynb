{
  "nbformat": 4,
  "nbformat_minor": 0,
  "metadata": {
    "colab": {
      "name": "EE559-HW2",
      "provenance": [],
      "collapsed_sections": [],
      "authorship_tag": "ABX9TyOMIty/b94qaLmZ+Vo5VzUa",
      "include_colab_link": true
    },
    "kernelspec": {
      "name": "python3",
      "display_name": "Python 3"
    },
    "language_info": {
      "name": "python"
    }
  },
  "cells": [
    {
      "cell_type": "markdown",
      "metadata": {
        "id": "view-in-github",
        "colab_type": "text"
      },
      "source": [
        "<a href=\"https://colab.research.google.com/github/danalex7212/DataScience/blob/main/SVM_KNN.ipynb\" target=\"_parent\"><img src=\"https://colab.research.google.com/assets/colab-badge.svg\" alt=\"Open In Colab\"/></a>"
      ]
    },
    {
      "cell_type": "markdown",
      "source": [
        "#Optimal Margin Classifier (Primal Form)"
      ],
      "metadata": {
        "id": "H985jw2JjImN"
      }
    },
    {
      "cell_type": "code",
      "execution_count": 136,
      "metadata": {
        "id": "2j18GiTMGMjz"
      },
      "outputs": [],
      "source": [
        "import tensorflow as tf\n",
        "import numpy as np\n",
        "import matplotlib.pyplot as plt"
      ]
    },
    {
      "cell_type": "code",
      "source": [
        "mnist = tf.keras.datasets.mnist"
      ],
      "metadata": {
        "id": "vfBUCXLHGYGi"
      },
      "execution_count": 137,
      "outputs": []
    },
    {
      "cell_type": "code",
      "source": [
        "(train_images,train_labels),(test_images,test_labels)=mnist.load_data()"
      ],
      "metadata": {
        "id": "x64K_s0VGcSg"
      },
      "execution_count": 138,
      "outputs": []
    },
    {
      "cell_type": "code",
      "source": [
        "index_train = np.where((train_labels == 2) | (train_labels == 6))\n",
        "index_test = np.where((test_labels == 2) | (test_labels == 6) )\n",
        "train_images_26 = train_images[index_train]\n",
        "train_images_26 = train_images_26.reshape((len(train_images_26),train_images_26[1].size))\n",
        "train_labels_26 = train_labels[index_train].astype('int')\n",
        "test_images_26 = test_images[index_test]\n",
        "test_images_26 = test_images_26.reshape((len(test_images_26),test_images_26[1].size))\n",
        "test_labels_26 = test_labels[index_test].astype('int')\n",
        "train_labels_26[ np.where(train_labels_26 == 2 )] = -1\n",
        "train_labels_26[ np.where(train_labels_26 == 6 )] = 1\n",
        "test_labels_26[ np.where(test_labels_26 == 2 )] = -1\n",
        "test_labels_26[ np.where(test_labels_26 == 6 )] = 1\n",
        "(train_images_26)= train_images_26[range(1000)].astype(np.float64)\n",
        "(train_labels_26)= train_labels_26[range(1000)].astype(np.float64)\n",
        "\n",
        "train_images_26 = train_images_26/255\n",
        "test_images_26 = test_images_26/255\n",
        "\n"
      ],
      "metadata": {
        "id": "FIDpMY35Gmm9"
      },
      "execution_count": 139,
      "outputs": []
    },
    {
      "cell_type": "code",
      "source": [
        "import cvxpy as cp\n",
        "w = cp.Variable(((train_images_26).shape[1]))\n",
        "\n",
        "obj = cp.Minimize(cp.sum_squares(w))\n",
        "b = cp.Variable()\n",
        "const = cp.multiply(train_labels_26,train_images_26*w+b)\n",
        "constraints = [const>=1]\n",
        "\n",
        "prob=cp.Problem(obj,constraints)\n",
        "prob.solve()\n",
        "print(\"status:\", prob.status)    \n",
        "print(\"optimal value\", prob.value) \n",
        "\n"
      ],
      "metadata": {
        "colab": {
          "base_uri": "https://localhost:8080/"
        },
        "id": "U_pmFwayOr2w",
        "outputId": "ed4ca52e-de71-4976-816e-b80f08a8d5e2"
      },
      "execution_count": 140,
      "outputs": [
        {
          "output_type": "stream",
          "name": "stdout",
          "text": [
            "status: optimal\n",
            "optimal value 7.207983941130411\n"
          ]
        }
      ]
    },
    {
      "cell_type": "code",
      "source": [
        "incorr = 0\n",
        "for j in range(len(train_images_26)): \n",
        "      wxtest = np.matmul(w.value,train_images_26[j]) + b.value\n",
        "      if wxtest*train_labels_26[j]<=0:\n",
        "        incorr += 1\n",
        "print(\"b value\",b.value)\n",
        "\n",
        "\n",
        "primal_training_error=((incorr)/len(train_images_26))\n",
        "print(\"training error :\",primal_training_error)"
      ],
      "metadata": {
        "colab": {
          "base_uri": "https://localhost:8080/"
        },
        "id": "EYHF9LUCiVAK",
        "outputId": "6f48a8ec-c91d-4e73-ae0c-86298e4d911e"
      },
      "execution_count": 141,
      "outputs": [
        {
          "output_type": "stream",
          "name": "stdout",
          "text": [
            "b value -0.6002426560740116\n",
            "training error : 0.0\n"
          ]
        }
      ]
    },
    {
      "cell_type": "code",
      "source": [
        "incorr = 0\n",
        "for j in range(len(test_images_26)): \n",
        "      wxtest = np.matmul(w.value,test_images_26[j]) + b.value\n",
        "      if wxtest*test_labels_26[j]<=0:\n",
        "        incorr += 1\n",
        "\n",
        "\n",
        "primal_testing_error = ((incorr)/len(test_images_26))\n",
        "print(\"testing error :\",primal_testing_error)"
      ],
      "metadata": {
        "colab": {
          "base_uri": "https://localhost:8080/"
        },
        "id": "dnCsL7Whg2AL",
        "outputId": "6b61f890-3cd1-4ab4-e662-1f7b787a64f3"
      },
      "execution_count": 142,
      "outputs": [
        {
          "output_type": "stream",
          "name": "stdout",
          "text": [
            "testing error : 0.024623115577889446\n"
          ]
        }
      ]
    },
    {
      "cell_type": "markdown",
      "source": [
        "\n",
        "\n",
        "# Dual Form of Optimal Marginal Classifier"
      ],
      "metadata": {
        "id": "6fwQj53Bjn8e"
      }
    },
    {
      "cell_type": "code",
      "source": [
        "import cvxpy as cp\n",
        "a = cp.Variable((train_labels_26.shape[0]))\n",
        "\n",
        "def dot_mat_vector(x):\n",
        "  mat = np.zeros((len(x), len(x)))\n",
        "  for i in range(len(x)):\n",
        "    for j in range(len(x)):\n",
        "      mat[i][j]= product(x[i],x[j])\n",
        "  return mat\n",
        "\n",
        "def product(c,d):\n",
        "  return np.dot(c,d)\n",
        "  \n",
        "\n",
        "def dot_mat(x):\n",
        "  mat = np.zeros((len(x), len(x)))\n",
        "  for i in range(len(x)):\n",
        "    for j in range(len(x)):\n",
        "      mat[i][j]= x[i]*x[j]\n",
        "  return mat\n",
        "\n",
        "mat_x = np.zeros((len(train_images_26), len(train_images_26))).astype(np.float64)\n",
        "mat_x = dot_mat_vector(train_images_26)\n",
        "\n",
        "mat_y = np.zeros((len(train_labels_26), len(train_labels_26)))\n",
        "mat_y = dot_mat(train_labels_26)\n",
        "\n",
        "h = np.zeros((train_images_26.shape[0], train_images_26.shape[0])).astype(np.float64)\n",
        "h = np.multiply(mat_x,mat_y)\n",
        "\n",
        "\n",
        "obj = cp.Maximize(cp.sum(a)-0.5*cp.quad_form(a,h))\n",
        "c2 = [a@train_labels_26.T >= 0]\n",
        "a_const = [a[i] >=0 for i in range(train_labels_26.shape[0])]\n",
        "\n",
        "constraints = c2+a_const\n",
        "prob=cp.Problem(obj,constraints)\n",
        "prob.solve()\n",
        "print(\"status:\", prob.status)\n",
        "print(\"optimal value\", prob.value)\n",
        "\n",
        "\n"
      ],
      "metadata": {
        "colab": {
          "base_uri": "https://localhost:8080/"
        },
        "id": "lMcRoqRolDCu",
        "outputId": "611e59d5-0d73-4d7e-c714-d0b9973df73c"
      },
      "execution_count": 143,
      "outputs": [
        {
          "output_type": "stream",
          "name": "stdout",
          "text": [
            "status: optimal\n",
            "optimal value 3.6039919705652093\n"
          ]
        }
      ]
    },
    {
      "cell_type": "code",
      "source": [
        ""
      ],
      "metadata": {
        "id": "UPwy95posqFg"
      },
      "execution_count": 143,
      "outputs": []
    },
    {
      "cell_type": "code",
      "source": [
        "w_dual = np.zeros(train_images_26.shape[1])\n",
        "\n",
        "for i in range(len(train_images_26)):\n",
        "  w_dual += a.value[i]*train_labels_26[i]*train_images_26[i]"
      ],
      "metadata": {
        "id": "JAVnZUfVbCH0"
      },
      "execution_count": 144,
      "outputs": []
    },
    {
      "cell_type": "code",
      "source": [
        "max = -np.inf\n",
        "min = np.inf\n",
        "for i in range(len(train_images_26)):\n",
        "  if ( train_labels_26[i] == -1):\n",
        "    if np.dot(train_images_26[i],w_dual.T) > max :\n",
        "      max = np.dot(train_images_26[i],w_dual.T)\n",
        "  else:\n",
        "    if np.dot(train_images_26[i],w_dual.T) < min :\n",
        "      min = np.dot(train_images_26[i],w_dual.T)\n",
        "\n",
        "b_dual = (-1*(max + min))/2\n"
      ],
      "metadata": {
        "id": "DxIEwb4qbJ2u"
      },
      "execution_count": 145,
      "outputs": []
    },
    {
      "cell_type": "code",
      "source": [
        "incorr = 0\n",
        "\n",
        "for j in range(len(train_images_26)): \n",
        "      wxtest = np.matmul(w_dual,train_images_26[j]) + b_dual\n",
        "      if wxtest*train_labels_26[j]<=0:\n",
        "        incorr += 1\n",
        "dual_training_error = ((incorr)/len(train_images_26))\n",
        "print(\"training error :\",dual_training_error)"
      ],
      "metadata": {
        "id": "h9Wn2y8fCSsv",
        "colab": {
          "base_uri": "https://localhost:8080/"
        },
        "outputId": "34606aef-ff34-40c8-e6c0-8c6cd5c3e174"
      },
      "execution_count": 146,
      "outputs": [
        {
          "output_type": "stream",
          "name": "stdout",
          "text": [
            "training error : 0.0\n"
          ]
        }
      ]
    },
    {
      "cell_type": "code",
      "source": [
        "incorr = 0\n",
        "for j in range(len(test_images_26)): \n",
        "      wxtest = np.matmul(w_dual,test_images_26[j]) + b_dual\n",
        "      if wxtest*test_labels_26[j]<=0:\n",
        "        incorr += 1\n",
        "dual_testing_error = ((incorr)/len(test_images_26))\n",
        "print(\"testing error :\",dual_testing_error)"
      ],
      "metadata": {
        "id": "tOL3fknESE5j",
        "colab": {
          "base_uri": "https://localhost:8080/"
        },
        "outputId": "3ecbaa6d-8624-4bdd-cf98-e4c03a94f39e"
      },
      "execution_count": 147,
      "outputs": [
        {
          "output_type": "stream",
          "name": "stdout",
          "text": [
            "testing error : 0.024623115577889446\n"
          ]
        }
      ]
    },
    {
      "cell_type": "markdown",
      "source": [
        "#Gaussian Kernel SVM "
      ],
      "metadata": {
        "id": "ruAKkmo4PmX9"
      }
    },
    {
      "cell_type": "code",
      "source": [
        "a_kernel = cp.Variable((train_labels_26.shape[0]))\n",
        "\n",
        "\n",
        "def dot_mat_vector(x):\n",
        "  mat = np.zeros((len(x), len(x)))\n",
        "  for i in range(len(x)):\n",
        "    for j in range(len(x)):\n",
        "      mat[i][j]= product(x[i],x[j])\n",
        "  return mat\n",
        "\n",
        "def product(c,d):\n",
        "  \n",
        "  sigma = 1\n",
        "  num = -1*np.sum(np.square(c-d))\n",
        "  denom = 2*sigma**2\n",
        "  return np.exp((num/denom))\n",
        "  \n",
        "\n",
        "def dot_mat(x):\n",
        "  mat = np.zeros((len(x), len(x)))\n",
        "  for i in range(len(x)):\n",
        "    for j in range(len(x)):\n",
        "      mat[i][j]= x[i]*x[j]\n",
        "  return mat\n",
        "\n",
        "mat_x = np.zeros((len(train_images_26), len(train_images_26))).astype(np.float64)\n",
        "mat_x = dot_mat_vector(train_images_26)\n",
        "\n",
        "mat_y = np.zeros((len(train_labels_26), len(train_labels_26)))\n",
        "mat_y = dot_mat(train_labels_26)\n",
        "\n",
        "h = np.zeros((train_images_26.shape[0], train_images_26.shape[0])).astype(np.float64)\n",
        "h = np.multiply(mat_x,mat_y)\n",
        "\n",
        "\n",
        "obj = cp.Maximize(cp.sum(a_kernel)-0.5*cp.quad_form(a_kernel,h))\n",
        "c2 = [a_kernel@train_labels_26.T == 0]\n",
        "a_const = [a_kernel[i] >=0 for i in range(train_labels_26.shape[0])]\n",
        "\n",
        "constraints = c2+a_const\n",
        "prob=cp.Problem(obj,constraints)\n",
        "prob.solve()\n",
        "print(\"status:\", prob.status)\n",
        "print(\"optimal value\", prob.value)"
      ],
      "metadata": {
        "id": "21DyIldsdBBO",
        "colab": {
          "base_uri": "https://localhost:8080/"
        },
        "outputId": "020db2be-ed87-4a8d-94f7-4446b9a7368d"
      },
      "execution_count": 148,
      "outputs": [
        {
          "output_type": "stream",
          "name": "stdout",
          "text": [
            "status: optimal\n",
            "optimal value 499.5828224579079\n"
          ]
        }
      ]
    },
    {
      "cell_type": "code",
      "source": [
        ""
      ],
      "metadata": {
        "id": "zmGdyU7vdvHK"
      },
      "execution_count": 148,
      "outputs": []
    },
    {
      "cell_type": "code",
      "source": [
        "\n",
        "def summation(x):\n",
        "  w_sum = 0\n",
        "  \n",
        "  for i in range(len(train_labels_26)):\n",
        "    w_sum += train_labels_26[i]*a_kernel.value[i]*product(train_images_26[i],x)\n",
        "  return w_sum\n",
        "max = -np.inf\n",
        "min = np.inf\n",
        "for i in range(len(train_images_26)):\n",
        "  if ( train_labels_26[i] == -1):\n",
        "    if summation(train_images_26[i]) > max :\n",
        "      max = summation(train_images_26[i])\n",
        "  else:\n",
        "    if summation(train_images_26[i]) < min :\n",
        "      min = summation(train_images_26[i])\n",
        "\n",
        "b_kernel = (-1*(max + min))/2"
      ],
      "metadata": {
        "id": "R1OKpVqdwxvA"
      },
      "execution_count": 149,
      "outputs": []
    },
    {
      "cell_type": "code",
      "source": [
        ""
      ],
      "metadata": {
        "id": "P9xnHInHbVdJ"
      },
      "execution_count": 149,
      "outputs": []
    },
    {
      "cell_type": "code",
      "source": [
        "incorr = 0\n",
        "for j in range(len(train_images_26)): \n",
        "      wxtest = summation(train_images_26[j]) + b_kernel\n",
        "      if wxtest*train_labels_26[j]<=0:\n",
        "        incorr += 1\n",
        "kernel_training_error = ((incorr)/len(train_images_26))\n",
        "print(\"training error :\",kernel_training_error)"
      ],
      "metadata": {
        "colab": {
          "base_uri": "https://localhost:8080/"
        },
        "outputId": "bcad7533-7b47-4613-9093-d2d56f4b6377",
        "id": "sHICBN3ZwxvE"
      },
      "execution_count": 150,
      "outputs": [
        {
          "output_type": "stream",
          "name": "stdout",
          "text": [
            "training error : 0.0\n"
          ]
        }
      ]
    },
    {
      "cell_type": "code",
      "source": [
        "incorr = 0\n",
        "\n",
        "for j in range(len(test_images_26)): \n",
        "      wxtest = summation(test_images_26[j]) + b_kernel\n",
        "      if wxtest*test_labels_26[j]<=0:\n",
        "        incorr += 1\n",
        "kernel_testing_error = ((incorr)/len(test_images_26))\n",
        "print(\"testing error :\",kernel_testing_error)"
      ],
      "metadata": {
        "colab": {
          "base_uri": "https://localhost:8080/"
        },
        "outputId": "b4ff2e55-c194-4a59-ea19-1962bf59817c",
        "id": "TO-supofwxvF"
      },
      "execution_count": 151,
      "outputs": [
        {
          "output_type": "stream",
          "name": "stdout",
          "text": [
            "testing error : 0.5185929648241207\n"
          ]
        }
      ]
    },
    {
      "cell_type": "markdown",
      "source": [
        "#K- Nearest Neighbor"
      ],
      "metadata": {
        "id": "yDr7o6yXQCwE"
      }
    },
    {
      "cell_type": "code",
      "source": [
        "#KNN for k = 3\n",
        "\n",
        "\n",
        "k = 3\n",
        "incorr = 0  #incorrect label is initialized as zero\n",
        "for i in range(0,len(train_images_26)):\n",
        "        dist = [] #initialize distance vector as empty array\n",
        "        dist = np.sqrt(np.sum((train_images_26[i]-train_images_26)**2,axis = 1)) #calculate distance of training sample from all of the rest of the training data\n",
        "        rank = np.argsort(dist) #sort the distances and return the indices of the sorted array using numpy argsort function\n",
        "        vote = 0 #initialize majority vote as neutral 0 ,neither +1 nor -1\n",
        "        for j in range(k):\n",
        "            vote += train_labels_26[rank[j]] #sum of the training lablels of k least distances will give the predicted label for the sample.( -1 and 1 will cancel each other)\n",
        "        if vote*train_labels_26[i] < 0: #if sign of the predicted and actual label is different ,there product is less than zero and it will be incorrect prediction\n",
        "          incorr +=1  #increment counter for incorrect prediction \n",
        "\n",
        "k3_training_error = ((incorr)/len(train_images_26))       \n",
        "print(\"training error :\",k3_training_error,\"Incorrect classified : \",incorr) #print training error\n",
        "\n",
        "incorr = 0  #incorrect label is initialized as zero\n",
        "for i in range(0,len(test_images_26)):\n",
        "        dist = [] #initialize distance vector as empty array\n",
        "        dist = np.sqrt(np.sum((test_images_26[i]-train_images_26)**2,axis = 1)) #calculate distance of testing sample from all of the rest of the training data\n",
        "        rank = np.argsort(dist) #sort the distances and return the indices of the sorted array using numpy argsort function\n",
        "        vote = 0 #initialize majority vote as neutral 0 ,neither +1 nor -1\n",
        "        for j in range(k):\n",
        "            vote += train_labels_26[rank[j]]#sum of the training lablels of k least distances will give the predicted label for the sample. ( -1 and 1 will cancel each other)\n",
        "        if vote*test_labels_26[i] < 0: #if sign of the predicted and actual label is different ,there product is less than zero and it will be incorrect prediction\n",
        "          incorr +=1  #increment counter for incorrect prediction \n",
        "        \n",
        "k3_testing_error = ((incorr)/len(test_images_26))\n",
        "print(\"testing error :\",k3_testing_error,\"Incorrect classified : \",incorr) #print testing error"
      ],
      "metadata": {
        "colab": {
          "base_uri": "https://localhost:8080/"
        },
        "id": "x7Q3iNO6bsE9",
        "outputId": "319f8f60-62d9-4ee0-fabe-8c48bba517ff"
      },
      "execution_count": 152,
      "outputs": [
        {
          "output_type": "stream",
          "name": "stdout",
          "text": [
            "training error : 0.002 Incorrect classified :  2\n",
            "testing error : 0.006030150753768844 Incorrect classified :  12\n"
          ]
        }
      ]
    },
    {
      "cell_type": "code",
      "source": [
        "#KNN for k = 5\n",
        "\n",
        "\n",
        "k = 5\n",
        "incorr = 0  #incorrect label is initialized as zero\n",
        "for i in range(0,len(train_images_26)):\n",
        "        dist = [] #initialize distance vector as empty array\n",
        "        dist = np.sqrt(np.sum((train_images_26[i]-train_images_26)**2,axis = 1)) #calculate distance of training sample from all of the rest of the training data\n",
        "        rank = np.argsort(dist) #sort the distances and return the indices of the sorted array using numpy argsort function\n",
        "        vote = 0 #initialize majority vote as neutral 0 ,neither +1 nor -1\n",
        "        for j in range(k):\n",
        "            vote += train_labels_26[rank[j]] #sum of the training lablels of k least distances will give the predicted label for the sample.( -1 and 1 will cancel each other)\n",
        "        if vote*train_labels_26[i] < 0: #if sign of the predicted and actual label is different ,there product is less than zero and it will be incorrect prediction\n",
        "          incorr +=1  #increment counter for incorrect prediction \n",
        "\n",
        "k5_training_error = ((incorr)/len(train_images_26))        \n",
        "print(\"training error :\",((incorr)/len(train_images_26)),\"Incorrect classified : \",incorr) #print training error\n",
        "\n",
        "incorr = 0  #incorrect label is initialized as zero\n",
        "for i in range(0,len(test_images_26)):\n",
        "        dist = [] #initialize distance vector as empty array\n",
        "        dist = np.sqrt(np.sum((test_images_26[i]-train_images_26)**2,axis = 1)) #calculate distance of testing sample from all of the rest of the training data\n",
        "        rank = np.argsort(dist) #sort the distances and return the indices of the sorted array using numpy argsort function\n",
        "        vote = 0 #initialize majority vote as neutral 0 ,neither +1 nor -1\n",
        "        for j in range(k):\n",
        "            vote += train_labels_26[rank[j]]#sum of the training lablels of k least distances will give the predicted label for the sample. ( -1 and 1 will cancel each other)\n",
        "        if vote*test_labels_26[i] < 0: #if sign of the predicted and actual label is different ,there product is less than zero and it will be incorrect prediction\n",
        "          incorr +=1  #increment counter for incorrect prediction \n",
        "        \n",
        "k5_testing_error = ((incorr)/len(test_images_26))\n",
        "print(\"testing error :\",((incorr)/len(test_images_26)),\"Incorrect classified : \",incorr) #print testing error"
      ],
      "metadata": {
        "colab": {
          "base_uri": "https://localhost:8080/"
        },
        "id": "-doA-lPaoJpz",
        "outputId": "f72e3109-958d-49fa-a049-01de603da7c7"
      },
      "execution_count": 153,
      "outputs": [
        {
          "output_type": "stream",
          "name": "stdout",
          "text": [
            "training error : 0.006 Incorrect classified :  6\n",
            "testing error : 0.007035175879396985 Incorrect classified :  14\n"
          ]
        }
      ]
    },
    {
      "cell_type": "markdown",
      "source": [
        "#Summary of results\n",
        "\n",
        "Linear Classification by optimal marginal classifer and dual form SVM produce good testing error . Gaussian Kernel produces bad testing error with sigma = 1 . However increasing sigma gives better testing error result for Kernel SVM with gaussian kernel. KNN for K=3 and K=5 produces the best result on the given dataset."
      ],
      "metadata": {
        "id": "8CmdljCylKZr"
      }
    },
    {
      "cell_type": "code",
      "source": [
        "from tabulate import tabulate\n",
        "table = [[\"Test\",\"Training Error\",\"Testing Error\"],\\\n",
        "         [\"Primal form\",primal_training_error,primal_testing_error],\\\n",
        "         [\"Dual form\",dual_training_error,dual_testing_error],\\\n",
        "         [\"Kernel SVM \",kernel_training_error,kernel_testing_error],\\\n",
        "         [\"KNN K=3 \",k3_training_error,k3_testing_error],\\\n",
        "         [\"KNN K=5 \",k5_training_error,k5_testing_error]]\n",
        "#print(tabulate(table))\n",
        "print(tabulate(table,headers=\"firstrow\",tablefmt=\"fancy_grid\"))"
      ],
      "metadata": {
        "colab": {
          "base_uri": "https://localhost:8080/"
        },
        "id": "IguBG6HHoaom",
        "outputId": "beceee1b-2445-422e-9a0d-5489fb23ec23"
      },
      "execution_count": 154,
      "outputs": [
        {
          "output_type": "stream",
          "name": "stdout",
          "text": [
            "╒═════════════╤══════════════════╤═════════════════╕\n",
            "│ Test        │   Training Error │   Testing Error │\n",
            "╞═════════════╪══════════════════╪═════════════════╡\n",
            "│ Primal form │            0     │      0.0246231  │\n",
            "├─────────────┼──────────────────┼─────────────────┤\n",
            "│ Dual form   │            0     │      0.0246231  │\n",
            "├─────────────┼──────────────────┼─────────────────┤\n",
            "│ Kernel SVM  │            0     │      0.518593   │\n",
            "├─────────────┼──────────────────┼─────────────────┤\n",
            "│ KNN K=3     │            0.002 │      0.00603015 │\n",
            "├─────────────┼──────────────────┼─────────────────┤\n",
            "│ KNN K=5     │            0.006 │      0.00703518 │\n",
            "╘═════════════╧══════════════════╧═════════════════╛\n"
          ]
        }
      ]
    },
    {
      "cell_type": "markdown",
      "source": [
        "#Soft Optimal Margin Classifier using Hinge-loss function (Support Vector Classifer)"
      ],
      "metadata": {
        "id": "7CbVWN6RQVa-"
      }
    },
    {
      "cell_type": "code",
      "source": [
        "\n",
        "import cvxpy as cp\n",
        "w = cp.Variable(((train_images_26).shape[1]))\n",
        "b = cp.Variable()\n",
        "c = 10\n",
        "\n",
        "e = cp.pos(1-cp.multiply(train_labels_26,(train_images_26@w+b)))\n",
        "obj = cp.Minimize(cp.sum_squares(w)+c*(1/train_images_26.shape[0])*cp.sum(e))\n",
        "const = cp.multiply(train_labels_26,train_images_26*w+b)\n",
        "\n",
        "prob=cp.Problem(obj)\n",
        "prob.solve()\n",
        "print(\"status:\", prob.status)     \n",
        "print(\"optimal value\", prob.value) \n",
        "print(\"optimal var\", b.value) \n"
      ],
      "metadata": {
        "colab": {
          "base_uri": "https://localhost:8080/"
        },
        "outputId": "4fa6fe8a-67a7-43c1-a05a-e192bd5c1c21",
        "id": "piQSU1NwILl0"
      },
      "execution_count": 155,
      "outputs": [
        {
          "output_type": "stream",
          "name": "stdout",
          "text": [
            "status: optimal\n",
            "optimal value 1.5863380044445254\n",
            "optimal var 0.054512285286243196\n"
          ]
        }
      ]
    },
    {
      "cell_type": "code",
      "source": [
        "incorr = 0\n",
        "for j in range(len(train_images_26)): \n",
        "      wxtest = np.matmul(w.value,train_images_26[j]) + b.value\n",
        "      if wxtest*train_labels_26[j]<=0:\n",
        "        incorr += 1\n",
        "print(\"b value\",b.value)\n",
        "print(\"training error :\",((incorr)/len(train_images_26)))\n"
      ],
      "metadata": {
        "colab": {
          "base_uri": "https://localhost:8080/"
        },
        "outputId": "3a53a82a-4bdd-4a9c-e5b1-3473da6ce263",
        "id": "6Bq2L5s3ILl1"
      },
      "execution_count": 156,
      "outputs": [
        {
          "output_type": "stream",
          "name": "stdout",
          "text": [
            "b value 0.054512285286243196\n",
            "training error : 0.017\n"
          ]
        }
      ]
    },
    {
      "cell_type": "code",
      "source": [
        "incorr = 0\n",
        "for j in range(len(test_images_26)): \n",
        "      wxtest = np.matmul(w.value,test_images_26[j]) + b.value\n",
        "      if wxtest*test_labels_26[j]<=0:\n",
        "        incorr += 1\n",
        "print(\"testing error :\",((incorr)/len(test_images_26)))"
      ],
      "metadata": {
        "colab": {
          "base_uri": "https://localhost:8080/"
        },
        "outputId": "fa562210-0e30-41ad-cf39-3ef97d554df9",
        "id": "XYycVUNCILl1"
      },
      "execution_count": 157,
      "outputs": [
        {
          "output_type": "stream",
          "name": "stdout",
          "text": [
            "testing error : 0.03015075376884422\n"
          ]
        }
      ]
    },
    {
      "cell_type": "markdown",
      "source": [
        "#Soft Margin Kernel SVM"
      ],
      "metadata": {
        "id": "KQggt1YWDV5O"
      }
    },
    {
      "cell_type": "code",
      "source": [
        "a_kernel = cp.Variable((train_labels_26.shape[0]))\n",
        "\n",
        "C=5\n",
        "\n",
        "def dot_mat_vector(x):\n",
        "  mat = np.zeros((len(x), len(x)))\n",
        "  for i in range(len(x)):\n",
        "    for j in range(len(x)):\n",
        "      mat[i][j]= product(x[i],x[j])\n",
        "  return mat\n",
        "\n",
        "def product(c,d):\n",
        "  \n",
        "  sigma = 1\n",
        "  num = -1*(np.sum(np.square(c-d)))\n",
        "  denom = 2*sigma**2\n",
        "  return np.exp((num/denom))\n",
        "  \n",
        "\n",
        "def dot_mat(x):\n",
        "  mat = np.zeros((len(x), len(x)))\n",
        "  for i in range(len(x)):\n",
        "    for j in range(len(x)):\n",
        "      mat[i][j]= x[i]*x[j]\n",
        "  return mat\n",
        "\n",
        "mat_x = np.zeros((len(train_images_26), len(train_images_26))).astype(np.float64)\n",
        "mat_x = dot_mat_vector(train_images_26)\n",
        "\n",
        "mat_y = np.zeros((len(train_labels_26), len(train_labels_26)))\n",
        "mat_y = dot_mat(train_labels_26)\n",
        "\n",
        "h = np.zeros((train_images_26.shape[0], train_images_26.shape[0])).astype(np.float64)\n",
        "h = np.multiply(mat_x,mat_y)\n",
        "\n",
        "\n",
        "obj = cp.Maximize(cp.sum(a_kernel)-0.5*cp.quad_form(a_kernel,h))\n",
        "c2 = [a_kernel@train_labels_26.T == 0]\n",
        "a_const = [a_kernel[i] >=0 for i in range(train_labels_26.shape[0])]\n",
        "c3 = [a_kernel[i] <=C for i in range(train_labels_26.shape[0])]\n",
        "constraints = c2+a_const+c3\n",
        "prob=cp.Problem(obj,constraints)\n",
        "prob.solve()\n",
        "print(\"status:\", prob.status)\n",
        "print(\"optimal value\", prob.value)"
      ],
      "metadata": {
        "colab": {
          "base_uri": "https://localhost:8080/"
        },
        "id": "JCiJhZO1EdjT",
        "outputId": "65940af6-eb14-4397-c8b3-60acf586c7c2"
      },
      "execution_count": 158,
      "outputs": [
        {
          "output_type": "stream",
          "name": "stdout",
          "text": [
            "status: optimal\n",
            "optimal value 499.5828224579079\n"
          ]
        }
      ]
    },
    {
      "cell_type": "code",
      "source": [
        ""
      ],
      "metadata": {
        "id": "vQF602rKbXHv"
      },
      "execution_count": 158,
      "outputs": []
    },
    {
      "cell_type": "code",
      "source": [
        "\n",
        "def summation(x):\n",
        "  w_sum = 0\n",
        "  \n",
        "  for i in range(len(train_labels_26)):\n",
        "    w_sum += train_labels_26[i]*a_kernel.value[i]*product(train_images_26[i],x)\n",
        "  return w_sum\n",
        "\n",
        "max = -np.inf\n",
        "min = np.inf\n",
        "for i in range(len(train_images_26)):\n",
        "  if ( train_labels_26[i] == -1):\n",
        "    if summation(train_images_26[i]) > max :\n",
        "      max = summation(train_images_26[i])\n",
        "  else:\n",
        "    if summation(train_images_26[i]) < min :\n",
        "      min = summation(train_images_26[i])\n",
        "\n",
        "b_kernel = (-1*(max + min))/2\n",
        "\n"
      ],
      "metadata": {
        "id": "6nG3F2wpbXVK"
      },
      "execution_count": 159,
      "outputs": []
    },
    {
      "cell_type": "code",
      "source": [
        "incorr = 0\n",
        "for j in range(len(train_images_26)): \n",
        "      wxtest = summation(train_images_26[j]) + b_kernel\n",
        "      if wxtest*train_labels_26[j]<=0:\n",
        "        incorr += 1\n",
        "print(\"training error :\",((incorr)/len(train_images_26)))"
      ],
      "metadata": {
        "colab": {
          "base_uri": "https://localhost:8080/"
        },
        "outputId": "bd516b66-61c7-4775-ea68-4de41b2916dc",
        "id": "rZmZNna6bXVM"
      },
      "execution_count": 160,
      "outputs": [
        {
          "output_type": "stream",
          "name": "stdout",
          "text": [
            "training error : 0.0\n"
          ]
        }
      ]
    },
    {
      "cell_type": "code",
      "source": [
        "incorr = 0\n",
        "for j in range(len(test_images_26)): \n",
        "      wxtest = summation(test_images_26[j]) + b_kernel\n",
        "      if wxtest*test_labels_26[j]<=0:\n",
        "        incorr += 1\n",
        "print(\"testing error :\",((incorr)/len(test_images_26)))"
      ],
      "metadata": {
        "colab": {
          "base_uri": "https://localhost:8080/"
        },
        "outputId": "39df0255-93c8-452e-b58a-7481b2ce2274",
        "id": "44ZdWoXPbXVM"
      },
      "execution_count": 161,
      "outputs": [
        {
          "output_type": "stream",
          "name": "stdout",
          "text": [
            "testing error : 0.5185929648241207\n"
          ]
        }
      ]
    },
    {
      "cell_type": "code",
      "source": [
        "# import numpy as np\n",
        "# import seaborn as sns\n",
        "# import pandas as pd\n",
        "\n",
        "\n",
        "# cm = sns.light_palette(\"blue\", as_cmap=True)\n",
        "# x=pd.DataFrame(h)\n",
        "# x=x.style.background_gradient(cmap=cm)\n",
        "# display(x)\n",
        "\n",
        "# def is_pos_def(x):\n",
        "#     return np.all(np.linalg.eigvals(x) > 0)\n",
        "\n",
        "\n",
        "# def check_symmetric(a, rtol=1e-05, atol=1e-08):\n",
        "#     return np.allclose(a, a.T, rtol=rtol, atol=atol)\n",
        "\n",
        "# print(check_symmetric(h),is_pos_def(h))\n",
        "# h_real==h"
      ],
      "metadata": {
        "id": "tJbS-TD7L7Tt"
      },
      "execution_count": 162,
      "outputs": []
    }
  ]
}