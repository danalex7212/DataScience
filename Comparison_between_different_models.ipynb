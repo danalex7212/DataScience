{
  "nbformat": 4,
  "nbformat_minor": 0,
  "metadata": {
    "colab": {
      "name": " EE559/HW-3-1.ipynb",
      "provenance": [],
      "collapsed_sections": []
    },
    "kernelspec": {
      "name": "python3",
      "display_name": "Python 3"
    },
    "language_info": {
      "name": "python"
    }
  },
  "cells": [
    {
      "cell_type": "markdown",
      "source": [
        "###1.a)"
      ],
      "metadata": {
        "id": "af2PprEV-a4v"
      }
    },
    {
      "cell_type": "code",
      "execution_count": null,
      "metadata": {
        "id": "gL5HZc-EJzCC"
      },
      "outputs": [],
      "source": [
        "import tensorflow as tf\n",
        "import numpy as np\n",
        "import matplotlib.pyplot as plt"
      ]
    },
    {
      "cell_type": "code",
      "source": [
        "mnist = tf.keras.datasets.mnist"
      ],
      "metadata": {
        "id": "GmPAHbl6J_2e"
      },
      "execution_count": null,
      "outputs": []
    },
    {
      "cell_type": "code",
      "source": [
        "(train_images,train_labels),(test_images,test_labels)=mnist.load_data()"
      ],
      "metadata": {
        "colab": {
          "base_uri": "https://localhost:8080/"
        },
        "id": "qPunjeRNKDWI",
        "outputId": "49e89e81-a953-4531-d773-27f160475fa0"
      },
      "execution_count": null,
      "outputs": [
        {
          "output_type": "stream",
          "name": "stdout",
          "text": [
            "Downloading data from https://storage.googleapis.com/tensorflow/tf-keras-datasets/mnist.npz\n",
            "11493376/11490434 [==============================] - 0s 0us/step\n",
            "11501568/11490434 [==============================] - 0s 0us/step\n"
          ]
        }
      ]
    },
    {
      "cell_type": "code",
      "source": [
        "index_train = np.where((train_labels == 2) | (train_labels == 6))\n",
        "index_test = np.where((test_labels == 2) | (test_labels == 6) )\n",
        "train_images_26 = train_images[index_train]\n",
        "train_images_26 = train_images_26.reshape((len(train_images_26),train_images_26[1].size))\n",
        "train_labels_26 = train_labels[index_train].astype('int')\n",
        "test_images_26 = test_images[index_test]\n",
        "test_images_26 = test_images_26.reshape((len(test_images_26),test_images_26[1].size))\n",
        "test_labels_26 = test_labels[index_test].astype('int')\n",
        "train_labels_26[ np.where(train_labels_26 == 2 )] = -1\n",
        "train_labels_26[ np.where(train_labels_26 == 6 )] = 1\n",
        "test_labels_26[ np.where(test_labels_26 == 2 )] = -1\n",
        "test_labels_26[ np.where(test_labels_26 == 6 )] = 1\n",
        "(train_images_26)= train_images_26[range(1000)].astype(np.float64)\n",
        "(train_labels_26)= train_labels_26[range(1000)].astype(np.float64)\n",
        "\n",
        "train_images_26_norm = train_images_26/255\n",
        "test_images_26_norm = test_images_26/255\n"
      ],
      "metadata": {
        "id": "cKGnddECKFI6"
      },
      "execution_count": null,
      "outputs": []
    },
    {
      "cell_type": "code",
      "source": [
        "import cvxpy as cp"
      ],
      "metadata": {
        "id": "ZklXZ5JzKYJV"
      },
      "execution_count": null,
      "outputs": []
    },
    {
      "cell_type": "code",
      "source": [
        "def kernel_svm(sigma):\n",
        "  a_kernel = cp.Variable((train_labels_26.shape[0]))\n",
        "\n",
        "\n",
        "  def dot_mat_vector(x):\n",
        "    mat = np.zeros((len(x), len(x)))\n",
        "    for i in range(len(x)):\n",
        "      for j in range(len(x)):\n",
        "        mat[i][j]= product(x[i],x[j])\n",
        "    return mat\n",
        "\n",
        "  def product(c,d):\n",
        "    \n",
        "    #sigma = 1\n",
        "    num = -1*np.sum(np.square(c-d))\n",
        "    denom = 2*sigma**2\n",
        "    return np.exp((num/denom))\n",
        "    \n",
        "\n",
        "  def dot_mat(x):\n",
        "    mat = np.zeros((len(x), len(x)))\n",
        "    for i in range(len(x)):\n",
        "      for j in range(len(x)):\n",
        "        mat[i][j]= x[i]*x[j]\n",
        "    return mat\n",
        "\n",
        "  mat_x = np.zeros((len(train_images_26_norm), len(train_images_26_norm))).astype(np.float64)\n",
        "  mat_x = dot_mat_vector(train_images_26_norm)\n",
        "\n",
        "  mat_y = np.zeros((len(train_labels_26), len(train_labels_26)))\n",
        "  mat_y = dot_mat(train_labels_26)\n",
        "\n",
        "  h = np.zeros((train_images_26_norm.shape[0], train_images_26_norm.shape[0])).astype(np.float64)\n",
        "  h = np.multiply(mat_x,mat_y)\n",
        "\n",
        "\n",
        "  obj = cp.Maximize(cp.sum(a_kernel)-0.5*cp.quad_form(a_kernel,h))\n",
        "  c2 = [a_kernel@train_labels_26.T == 0]\n",
        "  a_const = [a_kernel[i] >=0 for i in range(train_labels_26.shape[0])]\n",
        "\n",
        "  constraints = c2+a_const\n",
        "  prob=cp.Problem(obj,constraints)\n",
        "  prob.solve()\n",
        "  print(\"status:\", prob.status)\n",
        "  #print(\"optimal value\", prob.value)\n",
        "\n",
        "\n",
        "  def summation(x):\n",
        "    w_sum = 0\n",
        "    \n",
        "    for i in range(len(train_labels_26)):\n",
        "      w_sum += train_labels_26[i]*a_kernel.value[i]*product(train_images_26_norm[i],x)\n",
        "    return w_sum\n",
        "  max = -np.inf\n",
        "  min = np.inf\n",
        "  for i in range(len(train_images_26_norm)):\n",
        "    if ( train_labels_26[i] == -1):\n",
        "      if summation(train_images_26_norm[i]) > max :\n",
        "        max = summation(train_images_26_norm[i])\n",
        "    else:\n",
        "      if summation(train_images_26_norm[i]) < min :\n",
        "        min = summation(train_images_26_norm[i])\n",
        "\n",
        "  b_kernel = (-1*(max + min))/2\n",
        "\n",
        "  incorr = 0\n",
        "  for j in range(len(train_images_26_norm)): \n",
        "        wxtest = summation(train_images_26_norm[j]) + b_kernel\n",
        "        if wxtest*train_labels_26[j]<=0:\n",
        "          incorr += 1\n",
        "  kernel_training_error = ((incorr)/len(train_images_26_norm))\n",
        "  #print(\"training error :\",kernel_training_error)\n",
        "\n",
        "  incorr = 0\n",
        "\n",
        "  for j in range(len(test_images_26_norm)): \n",
        "        wxtest = summation(test_images_26_norm[j]) + b_kernel\n",
        "        if wxtest*test_labels_26[j]<=0:\n",
        "          incorr += 1\n",
        "  kernel_testing_error = ((incorr)/len(test_images_26_norm))\n",
        "  #print(\"testing error :\",kernel_testing_error)\n",
        "  return kernel_training_error,kernel_testing_error"
      ],
      "metadata": {
        "id": "U8hjx3FtKmJy"
      },
      "execution_count": null,
      "outputs": []
    },
    {
      "cell_type": "code",
      "source": [
        "sig = [0.2, 0.5, 1, 3, 4, 5, 10]\n",
        "kernel_training_error=[]\n",
        "kernel_testing_error=[]\n",
        "for i in sig:\n",
        "  a , b = kernel_svm(i)\n",
        "  kernel_training_error.append(a)\n",
        "  kernel_testing_error.append(b)\n",
        "print(kernel_training_error)\n",
        "print(kernel_testing_error)\n",
        "from tabulate import tabulate \n",
        "table = [[\"Test\",\"Training Error\",\"Testing Error\"],\\\n",
        "         [\"K-SVM sig = 0.2 \",kernel_training_error[0],kernel_testing_error[0]],\\\n",
        "         [\"K-SVM sig = 0.5 \",kernel_training_error[1],kernel_testing_error[1]],\\\n",
        "         [\"K-SVM sig = 1.0 \",kernel_training_error[2],kernel_testing_error[2]],\\\n",
        "         [\"K-SVM sig = 3.0 \",kernel_training_error[3],kernel_testing_error[3]],\\\n",
        "         [\"K-SVM sig = 4.0 \",kernel_training_error[4],kernel_testing_error[4]],\\\n",
        "         [\"K-SVM sig = 5.0 \",kernel_training_error[5],kernel_testing_error[5]],\\\n",
        "         [\"K-SVM sig = 10.0 \",kernel_training_error[6],kernel_testing_error[6]]]\n",
        "#print(tabulate(table))\n",
        "print(tabulate(table,headers=\"firstrow\",tablefmt=\"fancy_grid\"))"
      ],
      "metadata": {
        "colab": {
          "base_uri": "https://localhost:8080/"
        },
        "id": "MEZwTx1MTjzZ",
        "outputId": "6913b310-6f29-46af-9e9d-4e85092a8c18"
      },
      "execution_count": null,
      "outputs": [
        {
          "output_type": "stream",
          "name": "stdout",
          "text": [
            "status: optimal\n",
            "status: optimal\n",
            "status: optimal\n",
            "status: optimal\n",
            "status: optimal\n",
            "status: optimal\n",
            "status: optimal\n",
            "[0.0, 0.0, 0.0, 0.0, 0.0, 0.0, 0.0]\n",
            "[0.5185929648241207, 0.5185929648241207, 0.5185929648241207, 0.021105527638190954, 0.009045226130653266, 0.007537688442211055, 0.013567839195979899]\n",
            "╒══════════════════╤══════════════════╤═════════════════╕\n",
            "│ Test             │   Training Error │   Testing Error │\n",
            "╞══════════════════╪══════════════════╪═════════════════╡\n",
            "│ K-SVM sig = 0.2  │                0 │      0.518593   │\n",
            "├──────────────────┼──────────────────┼─────────────────┤\n",
            "│ K-SVM sig = 0.5  │                0 │      0.518593   │\n",
            "├──────────────────┼──────────────────┼─────────────────┤\n",
            "│ K-SVM sig = 1.0  │                0 │      0.518593   │\n",
            "├──────────────────┼──────────────────┼─────────────────┤\n",
            "│ K-SVM sig = 3.0  │                0 │      0.0211055  │\n",
            "├──────────────────┼──────────────────┼─────────────────┤\n",
            "│ K-SVM sig = 4.0  │                0 │      0.00904523 │\n",
            "├──────────────────┼──────────────────┼─────────────────┤\n",
            "│ K-SVM sig = 5.0  │                0 │      0.00753769 │\n",
            "├──────────────────┼──────────────────┼─────────────────┤\n",
            "│ K-SVM sig = 10.0 │                0 │      0.0135678  │\n",
            "╘══════════════════╧══════════════════╧═════════════════╛\n"
          ]
        }
      ]
    },
    {
      "cell_type": "markdown",
      "source": [
        "###1. b)\n",
        "Tuning the hyperparameter gamma means to adjust the degree of underfitting and overfitting of our model. Lower gamma values tend towards underfitting and higher gamma values tend towards overfitting our model. As we can see that at low values of gamma the degree of underfitting is very large and we get bad testing error. As we increase gamma we can see we start gettin good testing error to a particular limit. As soon as we increase gamma too much , we overfit the model too much and our testing error starts to increase . "
      ],
      "metadata": {
        "id": "Iq4XYmGVjUEU"
      }
    },
    {
      "cell_type": "markdown",
      "source": [
        "### 1.c)\n",
        "####SVM"
      ],
      "metadata": {
        "id": "151EX-Za-oaE"
      }
    },
    {
      "cell_type": "code",
      "source": [
        "def svm():\n",
        "  a_kernel = cp.Variable((train_labels_26.shape[0]))\n",
        "\n",
        "\n",
        "  def dot_mat_vector(x):\n",
        "    mat = np.zeros((len(x), len(x)))\n",
        "    for i in range(len(x)):\n",
        "      for j in range(len(x)):\n",
        "        mat[i][j]= product(x[i],x[j])\n",
        "    return mat\n",
        "\n",
        "  def product(c,d):\n",
        "    return np.dot(c,d)\n",
        "    \n",
        "  def dot_mat(x):\n",
        "    mat = np.zeros((len(x), len(x)))\n",
        "    for i in range(len(x)):\n",
        "      for j in range(len(x)):\n",
        "        mat[i][j]= x[i]*x[j]\n",
        "    return mat\n",
        "\n",
        "  mat_x = np.zeros((len(train_images_26_norm), len(train_images_26_norm))).astype(np.float64)\n",
        "  mat_x = dot_mat_vector(train_images_26_norm)\n",
        "\n",
        "  mat_y = np.zeros((len(train_labels_26), len(train_labels_26)))\n",
        "  mat_y = dot_mat(train_labels_26)\n",
        "\n",
        "  h = np.zeros((train_images_26_norm.shape[0], train_images_26_norm.shape[0])).astype(np.float64)\n",
        "  h = np.multiply(mat_x,mat_y)\n",
        "\n",
        "\n",
        "  obj = cp.Maximize(cp.sum(a_kernel)-0.5*cp.quad_form(a_kernel,h))\n",
        "  c2 = [a_kernel@train_labels_26.T == 0]\n",
        "  a_const = [a_kernel[i] >=0 for i in range(train_labels_26.shape[0])]\n",
        "\n",
        "  constraints = c2+a_const\n",
        "  prob=cp.Problem(obj,constraints)\n",
        "  prob.solve()\n",
        "  print(\"status:\", prob.status)\n",
        "  #print(\"optimal value\", prob.value)\n",
        "\n",
        "\n",
        "  def summation(x):\n",
        "    w_sum = 0\n",
        "    \n",
        "    for i in range(len(train_labels_26)):\n",
        "      w_sum += train_labels_26[i]*a_kernel.value[i]*product(train_images_26_norm[i],x)\n",
        "    return w_sum\n",
        "  max = -np.inf\n",
        "  min = np.inf\n",
        "  for i in range(len(train_images_26_norm)):\n",
        "    if ( train_labels_26[i] == -1):\n",
        "      if summation(train_images_26_norm[i]) > max :\n",
        "        max = summation(train_images_26_norm[i])\n",
        "    else:\n",
        "      if summation(train_images_26_norm[i]) < min :\n",
        "        min = summation(train_images_26_norm[i])\n",
        "\n",
        "  b_kernel = (-1*(max + min))/2\n",
        "\n",
        "  incorr = 0\n",
        "  for j in range(len(train_images_26_norm)): \n",
        "        wxtest = summation(train_images_26_norm[j]) + b_kernel\n",
        "        if wxtest*train_labels_26[j]<=0:\n",
        "          incorr += 1\n",
        "  kernel_training_error = ((incorr)/len(train_images_26_norm))\n",
        "  #print(\"training error :\",kernel_training_error)\n",
        "\n",
        "  incorr = 0\n",
        "\n",
        "  for j in range(len(test_images_26_norm)): \n",
        "        wxtest = summation(test_images_26_norm[j]) + b_kernel\n",
        "        if wxtest*test_labels_26[j]<=0:\n",
        "          incorr += 1\n",
        "  kernel_testing_error = ((incorr)/len(test_images_26_norm))\n",
        "  #print(\"testing error :\",kernel_testing_error)\n",
        "  return kernel_training_error,kernel_testing_error"
      ],
      "metadata": {
        "id": "R1OKpVqdwxvA"
      },
      "execution_count": null,
      "outputs": []
    },
    {
      "cell_type": "code",
      "source": [
        "svm_train,svm_test = svm()\n",
        "print(f'Training error for SVM is {svm_train} and testing error for SVM is {svm_test}')"
      ],
      "metadata": {
        "colab": {
          "base_uri": "https://localhost:8080/"
        },
        "id": "_fcHrpUtnVpB",
        "outputId": "b74fdecd-43aa-4cad-f399-08e1dc3a5ada"
      },
      "execution_count": null,
      "outputs": [
        {
          "output_type": "stream",
          "name": "stdout",
          "text": [
            "status: optimal\n",
            "Training error for SVM is 0.0 and testing error for SVM is 0.024623115577889446\n"
          ]
        }
      ]
    },
    {
      "cell_type": "markdown",
      "source": [
        "####Perceptron Algorithm"
      ],
      "metadata": {
        "id": "oahdcVKdld66"
      }
    },
    {
      "cell_type": "code",
      "source": [
        "train_images_26_w_dummy = np.insert(train_images_26_norm,784,1,axis = 1)\n",
        "test_images_26_w_dummy = np.insert(test_images_26_norm,784,1,axis = 1)"
      ],
      "metadata": {
        "id": "kv561eUCoX28"
      },
      "execution_count": null,
      "outputs": []
    },
    {
      "cell_type": "code",
      "source": [
        "\n",
        "w_vector = np.ones(train_images_26_w_dummy.shape[1]) # omega is initialised as a vector filled with ones\n",
        "i = 0\n",
        "stopping_criteria = 1    # setting our stopping criteria for breaking out of  the training loop\n",
        "while i < len(train_images_26_w_dummy):  # we loop over the 1000 training elements continuosly until we are able to classify 95% of it correctly\n",
        "  wx = np.matmul(np.transpose(w_vector),train_images_26_w_dummy[i]) # predicted label is found out for given sample in training dataset\n",
        "  if wx*train_labels_26[i]<=0: # checking wthether there is a match between predicted label and given label. If the prediction is wrong we update omega\n",
        "    w_vector = w_vector + (0.1*train_labels_26[i]*train_images_26_w_dummy[i]) # omega vector is updated\n",
        "    incorr = 0                  # variable to count no of incorrect predictions.\n",
        "    for j in range(len(train_images_26_w_dummy)): # everytime we update omega we calculate the training error for the entire training dataset\n",
        "      wxtest = np.matmul(np.transpose(w_vector),train_images_26_w_dummy[j])\n",
        "      if wxtest*train_labels_26[j]<=0:\n",
        "        incorr += 1            \n",
        "    if ((1000-incorr)/1000)>=stopping_criteria: # if we have classified 95 % of  training dataset correctly we stop the loop and break out.\n",
        "      print(\"training error :\",((incorr)/1000)) # print final training error before stopping training loop.\n",
        "      percep_train = (incorr)/1000\n",
        "      break\n",
        "  i += 1\n",
        "  if i == 1000:       #if we reach the end of the 1000 training data set we go back to the beginning of the set to continue training until criterion is reached\n",
        "    i = 0\n",
        "\n",
        "incorr = 0\n",
        "for i in range(len(test_images_26_w_dummy)):\n",
        "  wx = np.matmul(np.transpose(w_vector),test_images_26_w_dummy[i]) # with the improved omega we classify the test data and calculate testing error\n",
        "  if wx*test_labels_26[i]<=0: #if we predicted wrongly we increment the variable for incorrect predictions.\n",
        "    incorr += 1 \n",
        "print(\"testing error\",((incorr)/len(test_images_26_w_dummy)))\n",
        "percep_test = (incorr)/len(test_images_26_w_dummy)"
      ],
      "metadata": {
        "colab": {
          "base_uri": "https://localhost:8080/"
        },
        "id": "S5yj1NkulhOG",
        "outputId": "20e051b2-66d8-448b-c760-ba761656f9da"
      },
      "execution_count": null,
      "outputs": [
        {
          "output_type": "stream",
          "name": "stdout",
          "text": [
            "training error : 0.0\n",
            "testing error 0.03869346733668342\n"
          ]
        }
      ]
    },
    {
      "cell_type": "code",
      "source": [
        ""
      ],
      "metadata": {
        "id": "P9xnHInHbVdJ"
      },
      "execution_count": null,
      "outputs": []
    },
    {
      "cell_type": "markdown",
      "source": [
        "#### KNN K=3"
      ],
      "metadata": {
        "id": "YtJH025P0i3d"
      }
    },
    {
      "cell_type": "code",
      "source": [
        "#KNN for k = 3\n",
        "k = 3\n",
        "incorr = 0  #incorrect label is initialized as zero\n",
        "for i in range(0,len(train_images_26_w_dummy)):\n",
        "        dist = [] #initialize distance vector as empty array\n",
        "        dist = np.sqrt(np.sum((train_images_26_w_dummy[i]-train_images_26_w_dummy)**2,axis = 1)) #calculate distance of training sample from all of the rest of the training data\n",
        "        rank = np.argsort(dist) #sort the distances and return the indices of the sorted array using numpy argsort function\n",
        "        vote = 0 #initialize majority vote as neutral 0 ,neither +1 nor -1\n",
        "        for j in range(k):\n",
        "            vote += train_labels_26[rank[j]] #sum of the training lablels of k least distances will give the predicted label for the sample.( -1 and 1 will cancel each other)\n",
        "        if vote*train_labels_26[i] < 0: #if sign of the predicted and actual label is different ,there product is less than zero and it will be incorrect prediction\n",
        "          incorr +=1  #increment counter for incorrect prediction \n",
        "        \n",
        "print(\"training error :\",((incorr)/len(train_images_26)),\"Incorrect classified : \",incorr) #print training error\n",
        "k3_train = ((incorr)/len(train_images_26))\n",
        "\n",
        "incorr = 0  #incorrect label is initialized as zero\n",
        "for i in range(0,len(test_images_26_w_dummy)):\n",
        "        dist = [] #initialize distance vector as empty array\n",
        "        dist = np.sqrt(np.sum((test_images_26_w_dummy[i]-train_images_26_w_dummy)**2,axis = 1)) #calculate distance of testing sample from all of the rest of the training data\n",
        "        rank = np.argsort(dist) #sort the distances and return the indices of the sorted array using numpy argsort function\n",
        "        vote = 0 #initialize majority vote as neutral 0 ,neither +1 nor -1\n",
        "        for j in range(k):\n",
        "            vote += train_labels_26[rank[j]]#sum of the training lablels of k least distances will give the predicted label for the sample. ( -1 and 1 will cancel each other)\n",
        "        if vote*test_labels_26[i] < 0: #if sign of the predicted and actual label is different ,there product is less than zero and it will be incorrect prediction\n",
        "          incorr +=1  #increment counter for incorrect prediction \n",
        "        \n",
        "\n",
        "print(\"testing error :\",((incorr)/len(test_images_26)),\"Incorrect classified : \",incorr) #print testing error\n",
        "k3_test = ((incorr)/len(test_images_26))"
      ],
      "metadata": {
        "colab": {
          "base_uri": "https://localhost:8080/"
        },
        "id": "89YaCargaQPS",
        "outputId": "0d8a9001-6dc7-4201-9d6b-51af46308aee"
      },
      "execution_count": null,
      "outputs": [
        {
          "output_type": "stream",
          "name": "stdout",
          "text": [
            "training error : 0.002 Incorrect classified :  2\n",
            "testing error : 0.006030150753768844 Incorrect classified :  12\n"
          ]
        }
      ]
    },
    {
      "cell_type": "markdown",
      "source": [
        "#### KNN K=5"
      ],
      "metadata": {
        "id": "uhyN-rks0585"
      }
    },
    {
      "cell_type": "code",
      "source": [
        "#KNN for k = 5\n",
        "\n",
        "k = 5\n",
        "incorr = 0\n",
        "for i in range(0,len(train_images_26_w_dummy)):\n",
        "        dist = []\n",
        "        dist = np.sqrt(np.sum((train_images_26_w_dummy[i]-train_images_26_w_dummy)**2,axis = 1))\n",
        "        rank = np.argsort(dist)\n",
        "        vote = 0\n",
        "        for j in range(k):\n",
        "            vote += train_labels_26[rank[j]]\n",
        "        if vote*train_labels_26[i] < 0:\n",
        "          incorr +=1  \n",
        "        \n",
        "\n",
        "print(\"training error :\",((incorr)/len(train_images_26_w_dummy)),\"Incorrect classified : \",incorr)\n",
        "k5_train = ((incorr)/len(train_images_26))\n",
        "\n",
        "incorr = 0\n",
        "for i in range(0,len(test_images_26_w_dummy)):\n",
        "        dist = []\n",
        "        dist = np.sqrt(np.sum((test_images_26_w_dummy[i]-train_images_26_w_dummy)**2,axis = 1))\n",
        "        rank = np.argsort(dist)\n",
        "        vote = 0\n",
        "        for j in range(k):\n",
        "            vote += train_labels_26[rank[j]]\n",
        "        if vote*test_labels_26[i] < 0:\n",
        "          incorr +=1  \n",
        "        \n",
        "\n",
        "print(\"testing error :\",((incorr)/len(test_images_26_w_dummy)),\"Incorrect classified : \",incorr)\n",
        "k5_test = ((incorr)/len(test_images_26_w_dummy))\n",
        "#As K value increases , the difference between training error and test error reduces . And hence there is a more \n",
        "#consistent prediction in both training dataset and test dataset."
      ],
      "metadata": {
        "colab": {
          "base_uri": "https://localhost:8080/"
        },
        "id": "Idv0U2EgaSJu",
        "outputId": "2c6676ed-1b06-4792-d7b7-8d9b39af7ef1"
      },
      "execution_count": null,
      "outputs": [
        {
          "output_type": "stream",
          "name": "stdout",
          "text": [
            "training error : 0.006 Incorrect classified :  6\n",
            "testing error : 0.007035175879396985 Incorrect classified :  14\n"
          ]
        }
      ]
    },
    {
      "cell_type": "code",
      "source": [
        "from tabulate import tabulate \n",
        "table = [[\"Test\",\"Training Error\",\"Testing Error\"],\\\n",
        "         [\"K-SVM sig = 0.2 \",kernel_training_error[0],kernel_testing_error[0]],\\\n",
        "         [\"K-SVM sig = 0.5 \",kernel_training_error[1],kernel_testing_error[1]],\\\n",
        "         [\"K-SVM sig = 1.0 \",kernel_training_error[2],kernel_testing_error[2]],\\\n",
        "         [\"K-SVM sig = 3.0 \",kernel_training_error[3],kernel_testing_error[3]],\\\n",
        "         [\"K-SVM sig = 4.0 \",kernel_training_error[4],kernel_testing_error[4]],\\\n",
        "         [\"K-SVM sig = 5.0 \",kernel_training_error[5],kernel_testing_error[5]],\\\n",
        "         [\"K-SVM sig = 10.0 \",kernel_training_error[6],kernel_testing_error[6]],\\\n",
        "         [\"SVM \",svm_train,svm_test],\\\n",
        "         [\"Perceptron \",percep_train,percep_test],\\\n",
        "         [\"KNN K=3 \",k3_train,k3_test],\\\n",
        "         [\"KNN K=5 \",k5_train,k5_test]]\n",
        "#print(tabulate(table))\n",
        "print(tabulate(table,headers=\"firstrow\",tablefmt=\"fancy_grid\"))"
      ],
      "metadata": {
        "colab": {
          "base_uri": "https://localhost:8080/"
        },
        "outputId": "fd54fac8-88b6-4694-ce0b-79d4ba73d648",
        "id": "sHICBN3ZwxvE"
      },
      "execution_count": null,
      "outputs": [
        {
          "output_type": "stream",
          "name": "stdout",
          "text": [
            "╒══════════════════╤══════════════════╤═════════════════╕\n",
            "│ Test             │   Training Error │   Testing Error │\n",
            "╞══════════════════╪══════════════════╪═════════════════╡\n",
            "│ K-SVM sig = 0.2  │            0     │      0.518593   │\n",
            "├──────────────────┼──────────────────┼─────────────────┤\n",
            "│ K-SVM sig = 0.5  │            0     │      0.518593   │\n",
            "├──────────────────┼──────────────────┼─────────────────┤\n",
            "│ K-SVM sig = 1.0  │            0     │      0.518593   │\n",
            "├──────────────────┼──────────────────┼─────────────────┤\n",
            "│ K-SVM sig = 3.0  │            0     │      0.0211055  │\n",
            "├──────────────────┼──────────────────┼─────────────────┤\n",
            "│ K-SVM sig = 4.0  │            0     │      0.00904523 │\n",
            "├──────────────────┼──────────────────┼─────────────────┤\n",
            "│ K-SVM sig = 5.0  │            0     │      0.00753769 │\n",
            "├──────────────────┼──────────────────┼─────────────────┤\n",
            "│ K-SVM sig = 10.0 │            0     │      0.0135678  │\n",
            "├──────────────────┼──────────────────┼─────────────────┤\n",
            "│ SVM              │            0     │      0.0246231  │\n",
            "├──────────────────┼──────────────────┼─────────────────┤\n",
            "│ Perceptron       │            0     │      0.0386935  │\n",
            "├──────────────────┼──────────────────┼─────────────────┤\n",
            "│ KNN K=3          │            0.002 │      0.00603015 │\n",
            "├──────────────────┼──────────────────┼─────────────────┤\n",
            "│ KNN K=5          │            0.006 │      0.00703518 │\n",
            "╘══════════════════╧══════════════════╧═════════════════╛\n"
          ]
        }
      ]
    },
    {
      "cell_type": "markdown",
      "source": [
        "###1.d)\n",
        "Here we have done simple cross validation with different models because data is not scarce. We can see from the results that KNN for K=3 produces the lowest testing error , even though its not perfectly 0 training error. At the same time K-SVM with sigma = 5.0 also provides same comparable very good testing error with 0 training error. "
      ],
      "metadata": {
        "id": "SzJwebiQ_Y7K"
      }
    },
    {
      "cell_type": "markdown",
      "source": [
        ""
      ],
      "metadata": {
        "id": "pNn6BgL-K92O"
      }
    },
    {
      "cell_type": "markdown",
      "source": [
        "###Q2. Linear Regression (Batch gradient descent)"
      ],
      "metadata": {
        "id": "c1q1f332K-Gl"
      }
    },
    {
      "cell_type": "code",
      "source": [
        "import numpy as np\n",
        "\n",
        "x1 =  np.asarray([3,1])\n",
        "x2 = np.asarray([2,1])\n",
        "y1 = 3\n",
        "y2 = 4\n",
        "x=[x1,x2]\n",
        "y=[y1,y2]\n",
        "\n",
        "theta = np.zeros(len(y))\n",
        "alpha = 0.1\n",
        "count = 1\n",
        "i=0\n",
        "\n",
        "while(count<6):\n",
        "  sum = np.zeros(len(y))\n",
        "  for j in range(len(y)):\n",
        "    \n",
        "    sum += (np.matmul(np.transpose(theta),x[j])-y[j])*x[j]\n",
        "  theta -= alpha*(1/len(x))*sum\n",
        "  print(theta)\n",
        "  \n",
        "  count += 1 \n",
        "  sum = 0\n",
        "  for j in range(len(y)):\n",
        "    sum += (np.matmul(np.transpose(theta),x[j])-y[j])**2\n",
        "  l2loss = (1/len(y))*sum\n",
        "  \n",
        "  #print(\"l2 loss\",l2loss)\n",
        "  "
      ],
      "metadata": {
        "colab": {
          "base_uri": "https://localhost:8080/"
        },
        "id": "g3_WjRYKLAzS",
        "outputId": "62326a16-7619-4aab-cd27-5b9efb7961e6"
      },
      "execution_count": null,
      "outputs": [
        {
          "output_type": "stream",
          "name": "stdout",
          "text": [
            "[0.85 0.35]\n",
            "[1.06   0.4525]\n",
            "[1.107875 0.49225 ]\n",
            "[1.11469375 0.51605625]\n",
            "[1.11112875 0.53577719]\n"
          ]
        }
      ]
    },
    {
      "cell_type": "code",
      "source": [
        "theta"
      ],
      "metadata": {
        "colab": {
          "base_uri": "https://localhost:8080/"
        },
        "id": "2U0Lm-PzSyVB",
        "outputId": "0abd8dba-4c04-4ee4-e2bf-424bc1437275"
      },
      "execution_count": null,
      "outputs": [
        {
          "output_type": "execute_result",
          "data": {
            "text/plain": [
              "array([-1.,  6.])"
            ]
          },
          "metadata": {},
          "execution_count": 27
        }
      ]
    },
    {
      "cell_type": "markdown",
      "source": [
        "###2.b)"
      ],
      "metadata": {
        "id": "bUvpF4DkGGRP"
      }
    },
    {
      "cell_type": "code",
      "source": [
        "p_linear = np.polyfit([3,2],[3,4],1)\n",
        "y3_linear = p_linear[0]*3+p_linear[1]\n",
        "y2_linear = p_linear[0]*2+p_linear[1]\n",
        "plt.plot([3,2],[y3_linear,y2_linear])\n",
        "plt.show()"
      ],
      "metadata": {
        "colab": {
          "base_uri": "https://localhost:8080/",
          "height": 265
        },
        "id": "B0yZIqY7S5Px",
        "outputId": "2fbfea38-ea16-4b3a-f5f3-b9535d2d0d6b"
      },
      "execution_count": null,
      "outputs": [
        {
          "output_type": "display_data",
          "data": {
            "text/plain": [
              "<Figure size 432x288 with 1 Axes>"
            ],
            "image/png": "[encoded data removed]"
          },
          "metadata": {
            "needs_background": "light"
          }
        }
      ]
    },
    {
      "cell_type": "markdown",
      "source": [
        "###2. c)"
      ],
      "metadata": {
        "id": "nfa6XY51viIw"
      }
    },
    {
      "cell_type": "code",
      "source": [
        "noise = np.random.normal(0,1,10)\n",
        "x= (np.arange(10)-5)/2\n",
        "y = np.power(x,3)-np.power(x,2)+1+noise"
      ],
      "metadata": {
        "id": "YDYvw8B0p5kd"
      },
      "execution_count": null,
      "outputs": []
    },
    {
      "cell_type": "code",
      "source": [
        "import matplotlib.pyplot as plt\n",
        "plt.plot(x,y)"
      ],
      "metadata": {
        "colab": {
          "base_uri": "https://localhost:8080/",
          "height": 283
        },
        "id": "izSHuQg4v7hb",
        "outputId": "55e99351-9138-4418-c271-9f41c575ccfe"
      },
      "execution_count": null,
      "outputs": [
        {
          "output_type": "execute_result",
          "data": {
            "text/plain": [
              "[<matplotlib.lines.Line2D at 0x7fab27599f90>]"
            ]
          },
          "metadata": {},
          "execution_count": 12
        },
        {
          "output_type": "display_data",
          "data": {
            "text/plain": [
              "<Figure size 432x288 with 1 Axes>"
            ],
            "image/png": "[encoded data removed]"
          },
          "metadata": {
            "needs_background": "light"
          }
        }
      ]
    },
    {
      "cell_type": "code",
      "source": [
        "p1 = np.polyfit(x,y,1)\n",
        "p2 = np.polyfit(x,y,2)\n",
        "p3 = np.polyfit(x,y,3)\n",
        "p4 = np.polyfit(x,y,4)\n",
        "p5 = np.polyfit(x,y,5)"
      ],
      "metadata": {
        "id": "rr7v7qYRwAbj"
      },
      "execution_count": null,
      "outputs": []
    },
    {
      "cell_type": "code",
      "source": [
        "y_truth = x**3 - x**2 + 1 \n",
        "y1 = p1[0]*x+p1[1]\n",
        "y2 = p2[0]*np.power(x,2)+p2[1]*x+p2[2]\n",
        "y3 = p3[0]*np.power(x,3)+p3[1]*np.power(x,2)+p3[2]*x+p3[3]\n",
        "y4 = p4[0]*np.power(x,4)+p4[1]*np.power(x,3)+p4[2]*np.power(x,2)+p4[3]*x+p4[4]\n",
        "y5 = p5[0]*np.power(x,5)+p5[1]*np.power(x,4)+p5[2]*np.power(x,3)+p5[3]*np.power(x,2)+p5[4]*x+p5[5]\n",
        "plt.plot(x,y_truth,x,y1,x,y2,x,y3,x,y4,x,y5)"
      ],
      "metadata": {
        "colab": {
          "base_uri": "https://localhost:8080/",
          "height": 375
        },
        "id": "M9_9Q7EGwnCy",
        "outputId": "8d62c61f-6fc2-4821-924d-52a7ade99aa3"
      },
      "execution_count": null,
      "outputs": [
        {
          "output_type": "execute_result",
          "data": {
            "text/plain": [
              "[<matplotlib.lines.Line2D at 0x7fab26a7cc90>,\n",
              " <matplotlib.lines.Line2D at 0x7fab26a7ced0>,\n",
              " <matplotlib.lines.Line2D at 0x7fab26a9c0d0>,\n",
              " <matplotlib.lines.Line2D at 0x7fab26a9c290>,\n",
              " <matplotlib.lines.Line2D at 0x7fab26a9c450>,\n",
              " <matplotlib.lines.Line2D at 0x7fab26a9c650>]"
            ]
          },
          "metadata": {},
          "execution_count": 14
        },
        {
          "output_type": "display_data",
          "data": {
            "text/plain": [
              "<Figure size 432x288 with 1 Axes>"
            ],
            "image/png": "[encoded data removed]"
          },
          "metadata": {
            "needs_background": "light"
          }
        }
      ]
    },
    {
      "cell_type": "markdown",
      "source": [
        "Underfitting model is any model that fails to model the training data sufficienty well. It will fail to predict training data satisfactorily. Hence it will fail to predict new data also . \n",
        "Overfitting will predict training data too well and learn to adapt to noise also. Hence it will perform poorly on new data . \n",
        "Higher the degree of the polynomial regression , higher the fitting and more overfitting. Degree 1 and 2 are underfitting. \n",
        "Degree 3 is perfect model with perfect balance .\n",
        "Degree 4 and 5 are overfitting and will be sensitive to noise elements in test data.\n",
        "\n",
        "In practise if we see that training error is poor , then model is underfitting and we have to increase the degree to avoid underfitting.\n",
        "If we see that training error is very low , but testing error is high , then we have to decrease the degree to avoid overfitting. Hence we will perform well on unseen data."
      ],
      "metadata": {
        "id": "OlutnNTucQby"
      }
    }
  ]
}